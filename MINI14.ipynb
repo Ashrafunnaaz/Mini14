{
 "cells": [
  {
   "cell_type": "code",
   "execution_count": 1,
   "id": "f55dd216",
   "metadata": {},
   "outputs": [
    {
     "name": "stdout",
     "output_type": "stream",
     "text": [
      "Collecting opencv-pythonNote: you may need to restart the kernel to use updated packages.\n"
     ]
    },
    {
     "name": "stderr",
     "output_type": "stream",
     "text": [
      "WARNING: You are using pip version 21.2.4; however, version 23.0.1 is available.\n",
      "You should consider upgrading via the 'C:\\Users\\Compact\\AppData\\Local\\Programs\\Python\\Python39\\python.exe -m pip install --upgrade pip' command.\n"
     ]
    },
    {
     "name": "stdout",
     "output_type": "stream",
     "text": [
      "\n",
      "  Downloading opencv_python-4.7.0.72-cp37-abi3-win_amd64.whl (38.2 MB)\n",
      "Requirement already satisfied: numpy>=1.19.3 in c:\\users\\compact\\appdata\\local\\programs\\python\\python39\\lib\\site-packages (from opencv-python) (1.23.5)\n",
      "Installing collected packages: opencv-python\n",
      "Successfully installed opencv-python-4.7.0.72\n"
     ]
    }
   ],
   "source": [
    "pip install opencv-python"
   ]
  },
  {
   "cell_type": "code",
   "execution_count": 3,
   "id": "4eae3dc1",
   "metadata": {},
   "outputs": [
    {
     "data": {
      "text/plain": [
       "True"
      ]
     },
     "execution_count": 3,
     "metadata": {},
     "output_type": "execute_result"
    }
   ],
   "source": [
    "import numpy as np\n",
    "import cv2\n",
    "\n",
    "image = cv2.imread('original-image-1.png',cv2.IMREAD_UNCHANGED)\n",
    "\n",
    "position = (10,50)\n",
    "cv2.putText(\n",
    "     image, \n",
    "     \"CAT SLEEPING\", \n",
    "     position,\n",
    "     cv2.FONT_HERSHEY_SIMPLEX, \n",
    "     1, \n",
    "     (209, 80, 0, 255), \n",
    "     3)\n",
    "cv2.imwrite('original-image-1.png', image)"
   ]
  },
  {
   "cell_type": "code",
   "execution_count": 2,
   "id": "26b0d5c0",
   "metadata": {},
   "outputs": [],
   "source": [
    "import cv2\n",
    "path = 'original-image-1.png'\n",
    "image = cv2.imread(path)\n",
    "window_name = 'Image'\n",
    "font = cv2.FONT_HERSHEY_SIMPLEX\n",
    "org = (50, 50)\n",
    "fontScale = 1\n",
    "color = (255, 0, 0)\n",
    "thickness = 2\n",
    "image = cv2.putText(image, 'OpenCV', org, font, \n",
    "                   fontScale, color, thickness, cv2.LINE_AA)\n",
    "   \n",
    "\n",
    "cv2.imshow(window_name, image) "
   ]
  },
  {
   "cell_type": "code",
   "execution_count": null,
   "id": "993c76df",
   "metadata": {},
   "outputs": [],
   "source": []
  }
 ],
 "metadata": {
  "kernelspec": {
   "display_name": "Python 3 (ipykernel)",
   "language": "python",
   "name": "python3"
  },
  "language_info": {
   "codemirror_mode": {
    "name": "ipython",
    "version": 3
   },
   "file_extension": ".py",
   "mimetype": "text/x-python",
   "name": "python",
   "nbconvert_exporter": "python",
   "pygments_lexer": "ipython3",
   "version": "3.9.8"
  }
 },
 "nbformat": 4,
 "nbformat_minor": 5
}
